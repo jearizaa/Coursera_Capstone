{
    "cells": [
        {
            "metadata": {
                "collapsed": true
            },
            "cell_type": "markdown",
            "source": "# Car Accident Severity"
        },
        {
            "metadata": {},
            "cell_type": "markdown",
            "source": "### A description of the problem and a discussion of the background.\n\n### Clearly define a problem or an idea of your choice. Remember that data science problems always target an audience and are meant to help a group of stakeholders solve a problem, so make sure that you explicitly describe your audience and why they would care about your problem."
        },
        {
            "metadata": {},
            "cell_type": "markdown",
            "source": "According to the World Health Organization, approximately 1.35 million people die each year as a result of road traffic crashes. Between 20 and 50 million more people suffer non-fatal injuries, with many incurring a disability as a result of ther injury. \n\nRoad traffic injuries cause considerable economic losses to individuals, their families, and to nations as a whole. These losses arise from the cost of treatment as well as lost productivity for those killed or disabled by their injuries, and for family members who need to take time off work or school to care for the injured. Road traffic crashes cost most countries 3% of their gross domestic product.\n\nhttps://www.who.int/news-room/fact-sheets/detail/road-traffic-injuries"
        },
        {
            "metadata": {},
            "cell_type": "markdown",
            "source": "The 2030 Agenda for Sustainable Development has set an ambitious target of halving the global number of deaths and injuries from road traffic crashes by 2020. Saying that, the use of data science and artificial intelligenge could have a huge impact in achieving this goal."
        },
        {
            "metadata": {},
            "cell_type": "markdown",
            "source": "The addressing of this problem by data scientists teams has several benefits, starting by a continuous analysis of the important data to be collected on each crash, structuring the protocols of the different institutions handleling these situations, creating reaction teams not only for first aid but also to restablishing the normality of the traffic, using real time applications to alert commuters and more. This benefits not only tackle the problem from a goverment perspective but also from the commuter side."
        },
        {
            "metadata": {},
            "cell_type": "markdown",
            "source": "The goal of this project is to create  machine learning model to predict the severity of an accident, property damage only or human injuries until death, given the data reported by the SDOT Traffic Management Division, Traffic Records Group of Detroit."
        },
        {
            "metadata": {},
            "cell_type": "code",
            "source": "",
            "execution_count": null,
            "outputs": []
        }
    ],
    "metadata": {
        "kernelspec": {
            "name": "python3",
            "display_name": "Python 3.6",
            "language": "python"
        },
        "language_info": {
            "name": "python",
            "version": "3.6.9",
            "mimetype": "text/x-python",
            "codemirror_mode": {
                "name": "ipython",
                "version": 3
            },
            "pygments_lexer": "ipython3",
            "nbconvert_exporter": "python",
            "file_extension": ".py"
        }
    },
    "nbformat": 4,
    "nbformat_minor": 1
}