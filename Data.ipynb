{
    "cells": [
        {
            "metadata": {
                "collapsed": true
            },
            "cell_type": "markdown",
            "source": "# Data"
        },
        {
            "metadata": {},
            "cell_type": "markdown",
            "source": "### A description of the data and how it will be used to solve the problem.\n\n### Describe the data that you will be using to solve the problem or execute your idea. So make sure that you provide adequate explanation and discussion, with examples, of the data that you will be using"
        },
        {
            "metadata": {},
            "cell_type": "code",
            "source": "import pandas as pd\ndf = pd.read_csv('https://s3.us.cloud-object-storage.appdomain.cloud/cf-courses-data/CognitiveClass/DP0701EN/version-2/Data-Collisions.csv')\ndf.columns",
            "execution_count": 4,
            "outputs": [
                {
                    "output_type": "execute_result",
                    "execution_count": 4,
                    "data": {
                        "text/plain": "Index(['SEVERITYCODE', 'X', 'Y', 'OBJECTID', 'INCKEY', 'COLDETKEY', 'REPORTNO',\n       'STATUS', 'ADDRTYPE', 'INTKEY', 'LOCATION', 'EXCEPTRSNCODE',\n       'EXCEPTRSNDESC', 'SEVERITYCODE.1', 'SEVERITYDESC', 'COLLISIONTYPE',\n       'PERSONCOUNT', 'PEDCOUNT', 'PEDCYLCOUNT', 'VEHCOUNT', 'INCDATE',\n       'INCDTTM', 'JUNCTIONTYPE', 'SDOT_COLCODE', 'SDOT_COLDESC',\n       'INATTENTIONIND', 'UNDERINFL', 'WEATHER', 'ROADCOND', 'LIGHTCOND',\n       'PEDROWNOTGRNT', 'SDOTCOLNUM', 'SPEEDING', 'ST_COLCODE', 'ST_COLDESC',\n       'SEGLANEKEY', 'CROSSWALKKEY', 'HITPARKEDCAR'],\n      dtype='object')"
                    },
                    "metadata": {}
                }
            ]
        },
        {
            "metadata": {},
            "cell_type": "markdown",
            "source": "The shared data is provided by the SDOT Traffic Management Division and Traffic Records Group. It is a .csv file that contains 194.673 collisions registered from 2004 to present in the city of Seattle.  "
        },
        {
            "metadata": {},
            "cell_type": "markdown",
            "source": "The target is the severity code that classifies the collisions as '1' or 'Property Damage Only Collision', and '2' or 'Injury Collision'."
        },
        {
            "metadata": {},
            "cell_type": "markdown",
            "source": "### The data that will have further analysis to build the machine learning model are:\n\nCoordinates **X** and **Y** of the collision as latitud and longitude.\n\n**ADDRTYPE** indicates the address of the collision as 'Alley', 'Block' or 'Intersection'.\n\n**INCDTTM** stablishes the day and the hour with which the collision was registered with the format MM/DD/YYY HH:MM:SS AM or PM.\n\n**JUNCTIONTYPE** is the category of junction at which collision took place.\n\n**SDOT_COLCODE** is thecode given to the collision by SDOT.\n\n**ST_COLCODE** is the code provided by the state that describes the collision.\n\n**INNATENTIONIND** indicates if the collision was due to innatention.\n\n**UNDERINFL** indicates whether or not a driver involved was under the influence of drugs or alcohol.\n\n**WEATHER** is a description of the weather conditions during the time of the collision.\n\n**ROADCOND** is a description of the road condition during the collision.\n\n**LIGHTCOND** is a description of the light conditions during the collision.\n\n**SPEEDING** indicates whether or not the speed was a factor on the collision.\n\n**PEDROWNOTGRNT** is and indicator of whether or not the pedestrian right of way was not granted.\n\n**PEDCOUNT** is a count of the pedestrian involved.\n\n**PERCYCLCOUNT** is a count of the bycicles involved."
        },
        {
            "metadata": {},
            "cell_type": "markdown",
            "source": "### The following data will be discarded from the machine learning model because do not provide information that lead to patterns or the information is redundant, further explanation in each item:\n\n**OBJECTID** is a unique identifier of the collision. Is unique for collision.\n\n**INCKEY** is a unique identifier of the collision. Is unique for collision.\n\n**COLDETKEY** is a secondary key of the collision. Is unique for collision.\n\n**INTKEY** a identifier of the intersection associated with the collision. Is unique for location.\n\n**REPORTNO** a identifier of the report. Is unique for collision.\n\n**STATUS** is unknown.\n\n**LOCATION** is the address. Is unique for location.\n\n**EXCEPTRSNCODE** and EXCEPTRSNDESC is unknown.\n\n**EVERITYCODE.1** is redundant to SEVERITYCODE.\n\n**SEVERITYDESC** is redundant to SEVERITYCODE.\n\n**COLLISIONTYPE** is a description of the collision that explains how did it happen. \n\n**PERSONCOUNT** is a count of the persons involved.\n\n**VEHCOUNT** is a count of the vehicles involved. \n\n**INCDATE** is redundant with INCDTTM. \n\n**SDOT_COLDESC** is redundant to SDOT_COLCODE.\n\n**SDOTCOLNUM** is a number given to the collision by SDOT. Is unique for the collision.\n\n**ST_COLDESC** is redundant with ST_COLCODE.\n\n**HITPARKEDCAR** is an indicator of whether or not the collision involved hitting a parked car.\n\n**SEGLANKEY** is a key for the lane segment in which the collision occurred. Is unique for the location.\n\n**CROSSWALKKEY** is a key for the crosswalk at which the collision occurred. Is unique for the location."
        },
        {
            "metadata": {},
            "cell_type": "code",
            "source": "",
            "execution_count": null,
            "outputs": []
        }
    ],
    "metadata": {
        "kernelspec": {
            "name": "python3",
            "display_name": "Python 3.6",
            "language": "python"
        },
        "language_info": {
            "name": "python",
            "version": "3.6.9",
            "mimetype": "text/x-python",
            "codemirror_mode": {
                "name": "ipython",
                "version": 3
            },
            "pygments_lexer": "ipython3",
            "nbconvert_exporter": "python",
            "file_extension": ".py"
        }
    },
    "nbformat": 4,
    "nbformat_minor": 1
}